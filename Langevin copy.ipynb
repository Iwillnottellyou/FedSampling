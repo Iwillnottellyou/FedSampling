{
 "cells": [
  {
   "cell_type": "code",
   "execution_count": 31,
   "metadata": {},
   "outputs": [],
   "source": [
    "import numpy as np\n",
    "import matplotlib.pyplot as plt\n",
    "\n",
    "from sklearn.decomposition import PCA\n",
    "from sklearn.preprocessing import StandardScaler\n",
    "from matplotlib import rc\n",
    "from numpy.core.multiarray import pi\n",
    "from numpy.core.multiarray import e\n",
    "import seaborn as sns\n",
    "np.random.seed(1994)\n",
    "%matplotlib inline\n",
    "theta_star = 2.940234732799485\n",
    "\n"
   ]
  },
  {
   "cell_type": "code",
   "execution_count": 32,
   "metadata": {},
   "outputs": [],
   "source": [
    "def SQuantization(s,x): \n",
    "    \n",
    "    # s : number of quantization levels\n",
    "    # x : vector to compress\n",
    "    \n",
    "    if s == 0:\n",
    "        return x\n",
    "    norm_x = abs(x)#np.linalg.norm(x,2)\n",
    "    if norm_x == 0:\n",
    "        return x\n",
    "    ratio = np.abs(x) / norm_x\n",
    "    l = np.floor(ratio * s)\n",
    "    p = ratio * s - l\n",
    "    sampled = np.random.binomial(1,p)\n",
    "    qtzt = np.sign(x) * norm_x * (l + sampled) / s\n",
    "    return qtzt\n",
    "\n",
    "def com_bits(s,d):\n",
    "    if s <= np.sqrt(d/2 - np.sqrt(d)):\n",
    "        return (3 + (3/2) * np.log(2*(s**2 + d)/(s*(s+np.sqrt(d))))) * s*(s+np.sqrt(d)) + 32\n",
    "    elif s == np.sqrt(d):\n",
    "        return 2.8*d + 32\n",
    "    else:\n",
    "        return ((1/2)*(np.log(1 + (s**2+np.minimum(d,s*np.sqrt(d)))/d) + 1) + 2) * d + 32"
   ]
  },
  {
   "cell_type": "code",
   "execution_count": 33,
   "metadata": {},
   "outputs": [],
   "source": [
    "def generate_data(b,d,n,iid,iid_level,sigma,mu,seed):\n",
    "\n",
    "    # b : number of clients\n",
    "    # d : dimension\n",
    "    # n (array) : number of observations per clients\n",
    "    # iid : 'True' or 'False'\n",
    "    # iid_level : B > 0\n",
    "    \n",
    "    np.random.seed(seed)\n",
    "    \n",
    "    y = []\n",
    "    labels = []\n",
    "\n",
    "    if iid == \"True\":\n",
    "        for i in range(b):\n",
    "            y.append(np.random.normal(mu,sigma,size = (n[i],d)))\n",
    "            labels.append(i * np.ones(n[i]))\n",
    "    else:\n",
    "        for i in range(b):\n",
    "            mu_i = np.random.normal(mu,iid_level)\n",
    "            y.append(np.random.normal(mu_i,sigma,size = (n[i],d)))\n",
    "            labels.append(i * np.ones(n[i]))    \n",
    "    return y,labels"
   ]
  },
  {
   "cell_type": "code",
   "execution_count": 34,
   "metadata": {},
   "outputs": [],
   "source": [
    "## Problem params ##\n",
    "\n",
    "b = 5 # number of clients\n",
    "d = 1 # dimension\n",
    "\n",
    "## Data generation params ##\n",
    "\n",
    "sigma = 1 # std deviation for data generation\n",
    "mu = np.zeros(d) # mean vector for data generation\n",
    "iid_level = 5 # iid level for data generation\n",
    "np.random.seed(1994)\n",
    "n = np.random.randint(low=10,high=20,size=b) # number of observations per client\n",
    "y,labels = generate_data(b,d,n,'True',iid_level,sigma,mu,np.random.seed(1994))"
   ]
  },
  {
   "cell_type": "code",
   "execution_count": 35,
   "metadata": {},
   "outputs": [],
   "source": [
    "from math import cos\n",
    "from numpy import zeros\n",
    "\n",
    "def grad_func(x):\n",
    "   if x<-0.5*2*pi:\n",
    "      return x+0.5*2*pi+0.1\n",
    "   elif x>=-0.5*2*pi and x<=0.5*2*pi:\n",
    "      return -np.sin(x)+0.1\n",
    "   else:\n",
    "      return x-0.5*2*pi+0.1\n",
    "\n",
    "def func(x):\n",
    "    if x<=-0.5*2*pi:\n",
    "       return (x+0.5*2*pi)**2/2+0.1*x\n",
    "    if x>-0.5*2*pi and x<0.5*2*pi:\n",
    "       return np.cos(x)+1+0.1*x\n",
    "    if x>=0.5*2*pi:\n",
    "       return (x-0.5*2*pi)**2/2+0.1*x\n",
    "# p=10\n",
    "# for j in range(10000):\n",
    "#    p = p -0.01*grad_func(p)\n",
    "#    print(p)"
   ]
  },
  {
   "cell_type": "code",
   "execution_count": 36,
   "metadata": {},
   "outputs": [],
   "source": [
    "stepsiz = 0.002\n",
    "xinit = 3\n",
    "seedd = 4738"
   ]
  },
  {
   "cell_type": "code",
   "execution_count": 37,
   "metadata": {},
   "outputs": [],
   "source": [
    "def QLSDstar(T,step_size,init,s):\n",
    "    \n",
    "    theta = np.zeros((T,d))\n",
    "    theta[0,:] = init\n",
    "    x = init\n",
    "    qgrad = np.zeros((b,d))\n",
    "    sample_size = 1\n",
    "    \n",
    "    for t in range(T):\n",
    "\n",
    "        for i in range(b): \n",
    "\n",
    "            qgrad[i,:] = 0\n",
    "\n",
    "            for j in range(sample_size):\n",
    "\n",
    "                tmp_grad = 0\n",
    "\n",
    "                idx = np.random.randint(0,2*n[i])\n",
    "\n",
    "                if idx < n[i] :\n",
    "                    tmp_grad = grad_func(x)+y[i][idx]*np.cos(x)-grad_func(theta_star)-y[i][idx]*np.cos(theta_star)\n",
    "                if idx >= n[i]:\n",
    "                    tmp_grad = grad_func(x)-y[i][idx-n[i]]*np.cos(x)-grad_func(theta_star)+y[i][idx-n[i]]*np.cos(theta_star)\n",
    "\n",
    "                qgrad[i,:] = qgrad[i,:] + tmp_grad\n",
    "\n",
    "        \n",
    "    \n",
    "            qgrad[i,:] = SQuantization(s,(qgrad[i,:])/sample_size)\n",
    "        bb = np.sqrt(2*step_size) * np.random.normal(0,1,size=d)\n",
    "        \n",
    "        x = x - step_size * ((1/b)*np.sum(qgrad,axis=0)) + bb\n",
    "        theta[t,:]=x\n",
    "            \n",
    "    return theta"
   ]
  },
  {
   "cell_type": "code",
   "execution_count": 38,
   "metadata": {},
   "outputs": [],
   "source": [
    "# np.random.seed(seedd)\n",
    "\n",
    "# tmp = QLSDstar(400000,stepsiz,xinit,2**8)\n",
    "# ttr = [float(i) for i in tmp]\n",
    "\n",
    "\n"
   ]
  },
  {
   "cell_type": "code",
   "execution_count": 39,
   "metadata": {},
   "outputs": [],
   "source": [
    "\n",
    "# plt.hist(ttr,density=True,bins=200,label=\"Histogram of the samples\")\n",
    "# #sns.kdeplot(ttr, bw = .4, color = 'g')\n",
    "# plt.xlabel('x')\n",
    "# plt.ylabel('density')\n",
    "# plt.title(\"QLSD*\"+'\\quad initial point='+str(xinit)+'\\quad stepsize='+str(stepsiz))\n",
    "# plt.xlim((-10, 15))\n",
    "# plt.ylim((0, 0.4))\n",
    "\n",
    "# x_1 = np.linspace(-10,15,100000)\n",
    "# y_1 = [e**(-func(i))/5.711 for i in x_1]\n",
    "# plt.plot(x_1,y_1,'r',label=\"Target distribution\")\n",
    "# plt.legend(loc=\"upper right\")\n",
    "# plt.grid()\n",
    "# plt.savefig(\"star11.eps\")\n",
    "# plt.show()\n"
   ]
  },
  {
   "cell_type": "code",
   "execution_count": 40,
   "metadata": {},
   "outputs": [],
   "source": [
    "def Marina(T,step_size,init,s):\n",
    "    theta = np.zeros((T,d))\n",
    "    theta[0,:] = init\n",
    "    x = init\n",
    "    x_last = x\n",
    "    eta = np.zeros((b,d))\n",
    "    eta_sum = np.sum(eta,axis=0)\n",
    "    qgrad = np.zeros((b,d))\n",
    "    qgrad_last = qgrad\n",
    "    p = 0.001\n",
    "    for i in range(b):\n",
    "        qgrad[i,:]=grad_func(x)\n",
    "    sample_size = 1\n",
    "    \n",
    "    for t in range(T):\n",
    "\n",
    "        for i in range(b):    \n",
    "\n",
    "            # each client sub-sampling\n",
    "            idy = np.random.binomial(1,p)\n",
    "            if idy == 1:\n",
    "                qgrad[i,:] =SQuantization(s,grad_func(x))\n",
    "            else:\n",
    "                tmp_grad = 0\n",
    "                for j in range(sample_size):\n",
    "\n",
    "                    tmp_grad = 0\n",
    "\n",
    "                    idx = np.random.randint(0,2*n[i])\n",
    "\n",
    "                    if idx<n[i]:\n",
    "                        tmp_grad = tmp_grad + grad_func(x)+y[i][idx]*np.cos(x)-grad_func(x_last)-y[i][idx]*np.cos(x_last)\n",
    "                    if idx >= n[i]:\n",
    "                        tmp_grad = tmp_grad + grad_func(x)-y[i][idx-n[i]]*np.cos(x)-grad_func(x_last)+y[i][idx-n[i]]*np.cos(x_last)\n",
    "\n",
    "\n",
    "                qgrad[i,:] = qgrad[i,:] + SQuantization(s,tmp_grad/sample_size)\n",
    "\n",
    "        \n",
    "\n",
    "        x_last = x\n",
    "\n",
    "        bb = np.sqrt(2*step_size) * np.random.normal(0,1,size=d)\n",
    "        \n",
    "        x = x - step_size * ((1/b)*np.sum(qgrad,axis=0)) + bb\n",
    "        theta[t,:]=x\n",
    "            \n",
    "    return theta"
   ]
  },
  {
   "cell_type": "code",
   "execution_count": 41,
   "metadata": {},
   "outputs": [],
   "source": [
    "np.random.seed(seedd)\n",
    "tmp = Marina(400000,stepsiz,xinit,2**8)\n",
    "ttr_1 = [float(i) for i in tmp]\n"
   ]
  },
  {
   "cell_type": "code",
   "execution_count": 42,
   "metadata": {},
   "outputs": [
    {
     "name": "stderr",
     "output_type": "stream",
     "text": [
      "The PostScript backend does not support transparency; partially transparent artists will be rendered opaque.\n",
      "The PostScript backend does not support transparency; partially transparent artists will be rendered opaque.\n"
     ]
    },
    {
     "data": {
      "image/png": "[encoded data removed]",
      "text/plain": [
       "<Figure size 432x288 with 1 Axes>"
      ]
     },
     "metadata": {
      "needs_background": "light"
     },
     "output_type": "display_data"
    }
   ],
   "source": [
    "xx = ttr_1\n",
    "\n",
    "plt.hist(xx,density=True,bins=200,label=\"Histogram of the samples\")\n",
    "#sns.kdeplot(xx, bw = .4, color = 'g')\n",
    "plt.xlabel('x')\n",
    "plt.ylabel('density')\n",
    "plt.xlim((-10, 15))\n",
    "plt.ylim((0, 0.3))\n",
    "\n",
    "x_2 = np.linspace(-10,15,100000)\n",
    "y_2 = [e**(-func(i))/5.711 for i in x_2]\n",
    "plt.plot(x_2,y_2,'r',label=\"Target distribution\")\n",
    "plt.legend(loc=\"upper right\")\n",
    "plt.title(\"Langevin-Marina\"'\\quad initial point='+str(xinit)+'\\quad stepsize='+str(stepsiz))\n",
    "plt.grid()\n",
    "plt.savefig(\"marina15.eps\")\n",
    "plt.show()\n"
   ]
  },
  {
   "cell_type": "code",
   "execution_count": 43,
   "metadata": {},
   "outputs": [],
   "source": [
    "def QLSDpp(T,step_size,init,s):\n",
    "    \n",
    "    theta = np.zeros((T,d))\n",
    "    theta[0,:] = init\n",
    "    x = init\n",
    "    eta = np.zeros((b,d))\n",
    "    #eta_sum = np.sum(eta,axis=0)\n",
    "    alpha = 0.2\n",
    "    qgrad = np.zeros((b,d))\n",
    "    theta_tmp = x\n",
    "\n",
    "    l = 1000\n",
    "    sample_size = 1\n",
    "    \n",
    "    for t in range(T):\n",
    "        if t%l ==0:\n",
    "            theta_tmp = x\n",
    "\n",
    "\n",
    "        for i in range(b): \n",
    "\n",
    "            qgrad[i,:] = 0\n",
    "\n",
    "            for j in range(sample_size):\n",
    "\n",
    "                tmp_grad = 0\n",
    "\n",
    "                idx = np.random.randint(0,2*n[i])\n",
    "\n",
    "                if idx < 0:\n",
    "                    tmp_grad = grad_func(x)-y[i][idx]*np.cos(x)-grad_func(theta_tmp)+y[i][idx]*np.cos(theta_tmp)\n",
    "                if idx >= n[i] & idx>0:\n",
    "                    tmp_grad = grad_func(x)-y[i][idx-n[i]]*np.cos(x)-grad_func(theta_tmp)+y[i][idx-n[i]]*np.cos(theta_tmp)\n",
    "\n",
    "                qgrad[i,:] = qgrad[i,:] + tmp_grad\n",
    "\n",
    "        \n",
    "            # quantization with memory term eta\n",
    "            qgrad[i,:] = SQuantization(s,qgrad[i,:]/sample_size+grad_func(theta_tmp)-eta[i,:])\n",
    "            eta[i,:] = eta[i,:] +alpha* qgrad[i,:]\n",
    "            #update eta\n",
    "            #eta[i] = eta[i] + alpha*qgrad[i,:]\n",
    "\n",
    "\n",
    "\n",
    "        # Update theta on server\n",
    "        bb = np.sqrt(2*step_size) * np.random.normal(0,1,size=d)\n",
    "        \n",
    "        x = x - step_size * ((1/b)*(np.sum(qgrad,axis=0)+np.sum(eta,axis = 0))) + bb\n",
    "        theta[t,:]=x\n",
    "        #print(eta_sum[:2])\n",
    "        #print(x[:1])\n",
    "        #Update eta on server\n",
    "        #eta_sum = np.sum(eta,axis=0)\n",
    "            \n",
    "    return theta"
   ]
  },
  {
   "cell_type": "code",
   "execution_count": 44,
   "metadata": {},
   "outputs": [],
   "source": [
    "np.random.seed(seedd)\n",
    "tmp = QLSDpp(400000,stepsiz,xinit,2**8)\n",
    "ttr_2 = [ float(i) for i in tmp]\n",
    "\n"
   ]
  },
  {
   "cell_type": "code",
   "execution_count": 45,
   "metadata": {},
   "outputs": [
    {
     "name": "stderr",
     "output_type": "stream",
     "text": [
      "The PostScript backend does not support transparency; partially transparent artists will be rendered opaque.\n",
      "The PostScript backend does not support transparency; partially transparent artists will be rendered opaque.\n"
     ]
    },
    {
     "data": {
      "image/png": "[encoded data removed]",
      "text/plain": [
       "<Figure size 432x288 with 1 Axes>"
      ]
     },
     "metadata": {
      "needs_background": "light"
     },
     "output_type": "display_data"
    }
   ],
   "source": [
    "xxx = ttr_2\n",
    "\n",
    "plt.hist(xxx,density=True,bins=200,label=\"Histogram of the samples\")\n",
    "#sns.kdeplot(xxx, bw = .4, color = 'g')\n",
    "plt.xlabel('x')\n",
    "plt.ylabel('density')\n",
    "plt.title(\"QLSD++\"'\\quad initial point='+str(xinit)+'\\quad stepsize='+str(stepsiz))\n",
    "plt.xlim((-10, 15))\n",
    "plt.ylim((0, 0.3))\n",
    "\n",
    "x_3 = np.linspace(-10,15,100000)\n",
    "y_3 = [e**(-func(i))/5.711 for i in x_3]\n",
    "plt.plot(x_3,y_3,'r',label=\"Target distribution\")\n",
    "plt.legend(loc=\"upper right\")\n",
    "plt.grid()\n",
    "plt.savefig(\"pp15.eps\")\n",
    "plt.show()\n"
   ]
  },
  {
   "cell_type": "code",
   "execution_count": 46,
   "metadata": {},
   "outputs": [
    {
     "name": "stdout",
     "output_type": "stream",
     "text": [
      "5.711460688283492\n"
     ]
    }
   ],
   "source": [
    "#calculate normalization constant Z\n",
    "x = np.linspace(-30,30,10000000)\n",
    "summ = 0\n",
    "for i in range(10000000-1):\n",
    "                    summ = summ +(x[i+1]-x[i])*e**(-func((x[i]+x[i+1])/2))\n",
    "                  \n",
    "print(summ)"
   ]
  }
 ],
 "metadata": {
  "kernelspec": {
   "display_name": "Python 3.8.8 ('base')",
   "language": "python",
   "name": "python3"
  },
  "language_info": {
   "codemirror_mode": {
    "name": "ipython",
    "version": 3
   },
   "file_extension": ".py",
   "mimetype": "text/x-python",
   "name": "python",
   "nbconvert_exporter": "python",
   "pygments_lexer": "ipython3",
   "version": "3.8.8"
  },
  "orig_nbformat": 4,
  "vscode": {
   "interpreter": {
    "hash": "40d3a090f54c6569ab1632332b64b2c03c39dcf918b08424e98f38b5ae0af88f"
   }
  }
 },
 "nbformat": 4,
 "nbformat_minor": 2
}
